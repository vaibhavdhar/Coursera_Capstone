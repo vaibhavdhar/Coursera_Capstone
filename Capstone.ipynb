{
 "cells": [
  {
   "cell_type": "markdown",
   "metadata": {
    "collapsed": true
   },
   "source": [
    "# Introduction"
   ]
  },
  {
   "cell_type": "markdown",
   "metadata": {},
   "source": [
    "## Traffic Analysis in Toronto"
   ]
  },
  {
   "cell_type": "markdown",
   "metadata": {},
   "source": [
    "Toronto is one of the largest and important cities in Canada. Compared to all other Canadian cities, Toronto has the largest contribution to Canada's GDP. It is also a major hub for immigration due to its vast array of options for employment and education. However with such explosive growth comes a major issue. The problem of growing traffic. Even though Toronto is a well-planned city, the traffic seems to be worsening for this city. So this has prompted me to do a an analysis on the traffic data of Toronto. This analysis could be of interest to the law enforcement of the city and the civic authorities. Using an analysis on this data they can determine in which areas they would need to upgrade the infrastructure or deploy more traffic police to better manage the tarffic."
   ]
  },
  {
   "cell_type": "markdown",
   "metadata": {},
   "source": [
    "# Data"
   ]
  },
  {
   "cell_type": "markdown",
   "metadata": {},
   "source": [
    "The most important part of any analytics project is the data. The data I'm going to use in this case is from the Toronto Police Service web portal(http://data.torontopolice.on.ca/datasets/ksi/data). Using this data I can find out the areas of the cities where the most accidents take place and where the most fatal accidents take place. These areas can be brought into the focus of the concerned authorities who can take the required steps to deal with the problem. The data is in csv format and has 57 columns and 12,244 rows. Many of these columns will need to be dropped as they are not relevant to the analysis. Then some preprocesing of the data will need to be done to make it suitable for analysis."
   ]
  },
  {
   "cell_type": "code",
   "execution_count": null,
   "metadata": {},
   "outputs": [],
   "source": []
  }
 ],
 "metadata": {
  "kernelspec": {
   "display_name": "Python 3.6",
   "language": "python",
   "name": "python3"
  },
  "language_info": {
   "codemirror_mode": {
    "name": "ipython",
    "version": 3
   },
   "file_extension": ".py",
   "mimetype": "text/x-python",
   "name": "python",
   "nbconvert_exporter": "python",
   "pygments_lexer": "ipython3",
   "version": "3.6.8"
  }
 },
 "nbformat": 4,
 "nbformat_minor": 1
}
